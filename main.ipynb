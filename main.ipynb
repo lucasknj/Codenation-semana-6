{
 "cells": [
  {
   "cell_type": "markdown",
   "metadata": {},
   "source": [
    "# Desafio 5\n",
    "\n",
    "Neste desafio, vamos praticar sobre redução de dimensionalidade com PCA e seleção de variáveis com RFE. Utilizaremos o _data set_ [Fifa 2019](https://www.kaggle.com/karangadiya/fifa19), contendo originalmente 89 variáveis de mais de 18 mil jogadores do _game_ FIFA 2019.\n",
    "\n",
    "> Obs.: Por favor, não modifique o nome das funções de resposta."
   ]
  },
  {
   "cell_type": "markdown",
   "metadata": {},
   "source": [
    "## _Setup_ geral"
   ]
  },
  {
   "cell_type": "code",
   "execution_count": 3,
   "metadata": {},
   "outputs": [
    {
     "name": "stdout",
     "output_type": "stream",
     "text": [
      "Collecting loguru\n",
      "  Downloading loguru-0.4.1-py3-none-any.whl (54 kB)\n",
      "Requirement already satisfied: colorama>=0.3.4; sys_platform == \"win32\" in c:\\users\\lucaskenjis\\anaconda3\\lib\\site-packages (from loguru) (0.4.1)\n",
      "Collecting win32-setctime>=1.0.0; sys_platform == \"win32\"\n",
      "  Downloading win32_setctime-1.0.1-py3-none-any.whl (3.4 kB)\n",
      "Installing collected packages: win32-setctime, loguru\n",
      "Successfully installed loguru-0.4.1 win32-setctime-1.0.1\n"
     ]
    }
   ],
   "source": [
    "#!pip install loguru"
   ]
  },
  {
   "cell_type": "code",
   "execution_count": 54,
   "metadata": {},
   "outputs": [],
   "source": [
    "from math import sqrt\n",
    "\n",
    "import pandas as pd\n",
    "import matplotlib.pyplot as plt\n",
    "import numpy as np\n",
    "import scipy.stats as sct\n",
    "import seaborn as sns\n",
    "import statsmodels.api as sm\n",
    "import statsmodels.stats as st\n",
    "from sklearn.decomposition import PCA\n",
    "\n",
    "from loguru import logger\n",
    "\n",
    "from sklearn.linear_model import LinearRegression\n",
    "from sklearn.feature_selection import RFE"
   ]
  },
  {
   "cell_type": "markdown",
   "metadata": {},
   "source": [
    "# Algumas configurações para o matplotlib.\n",
    "%matplotlib inline\n",
    "\n",
    "from IPython.core.pylabtools import figsize\n",
    "\n",
    "\n",
    "figsize(12, 8)\n",
    "\n",
    "sns.set()"
   ]
  },
  {
   "cell_type": "code",
   "execution_count": 3,
   "metadata": {
    "scrolled": false
   },
   "outputs": [],
   "source": [
    "fifa = pd.read_csv(\"fifa.csv\")"
   ]
  },
  {
   "cell_type": "code",
   "execution_count": 4,
   "metadata": {},
   "outputs": [],
   "source": [
    "columns_to_drop = [\"Unnamed: 0\", \"ID\", \"Name\", \"Photo\", \"Nationality\", \"Flag\",\n",
    "                   \"Club\", \"Club Logo\", \"Value\", \"Wage\", \"Special\", \"Preferred Foot\",\n",
    "                   \"International Reputation\", \"Weak Foot\", \"Skill Moves\", \"Work Rate\",\n",
    "                   \"Body Type\", \"Real Face\", \"Position\", \"Jersey Number\", \"Joined\",\n",
    "                   \"Loaned From\", \"Contract Valid Until\", \"Height\", \"Weight\", \"LS\",\n",
    "                   \"ST\", \"RS\", \"LW\", \"LF\", \"CF\", \"RF\", \"RW\", \"LAM\", \"CAM\", \"RAM\", \"LM\",\n",
    "                   \"LCM\", \"CM\", \"RCM\", \"RM\", \"LWB\", \"LDM\", \"CDM\", \"RDM\", \"RWB\", \"LB\", \"LCB\",\n",
    "                   \"CB\", \"RCB\", \"RB\", \"Release Clause\"\n",
    "]\n",
    "\n",
    "try:\n",
    "    fifa.drop(columns_to_drop, axis=1, inplace=True)\n",
    "except KeyError:\n",
    "    logger.warning(f\"Columns already dropped\")"
   ]
  },
  {
   "cell_type": "markdown",
   "metadata": {},
   "source": [
    "## Inicia sua análise a partir daqui"
   ]
  },
  {
   "cell_type": "code",
   "execution_count": 5,
   "metadata": {},
   "outputs": [
    {
     "data": {
      "text/plain": [
       "(18207, 37)"
      ]
     },
     "execution_count": 5,
     "metadata": {},
     "output_type": "execute_result"
    }
   ],
   "source": [
    "fifa.shape"
   ]
  },
  {
   "cell_type": "code",
   "execution_count": 6,
   "metadata": {},
   "outputs": [
    {
     "data": {
      "text/html": [
       "<div>\n",
       "<style scoped>\n",
       "    .dataframe tbody tr th:only-of-type {\n",
       "        vertical-align: middle;\n",
       "    }\n",
       "\n",
       "    .dataframe tbody tr th {\n",
       "        vertical-align: top;\n",
       "    }\n",
       "\n",
       "    .dataframe thead th {\n",
       "        text-align: right;\n",
       "    }\n",
       "</style>\n",
       "<table border=\"1\" class=\"dataframe\">\n",
       "  <thead>\n",
       "    <tr style=\"text-align: right;\">\n",
       "      <th></th>\n",
       "      <th>Age</th>\n",
       "      <th>Overall</th>\n",
       "      <th>Potential</th>\n",
       "      <th>Crossing</th>\n",
       "      <th>Finishing</th>\n",
       "      <th>HeadingAccuracy</th>\n",
       "      <th>ShortPassing</th>\n",
       "      <th>Volleys</th>\n",
       "      <th>Dribbling</th>\n",
       "      <th>Curve</th>\n",
       "      <th>...</th>\n",
       "      <th>Penalties</th>\n",
       "      <th>Composure</th>\n",
       "      <th>Marking</th>\n",
       "      <th>StandingTackle</th>\n",
       "      <th>SlidingTackle</th>\n",
       "      <th>GKDiving</th>\n",
       "      <th>GKHandling</th>\n",
       "      <th>GKKicking</th>\n",
       "      <th>GKPositioning</th>\n",
       "      <th>GKReflexes</th>\n",
       "    </tr>\n",
       "  </thead>\n",
       "  <tbody>\n",
       "    <tr>\n",
       "      <th>0</th>\n",
       "      <td>31</td>\n",
       "      <td>94</td>\n",
       "      <td>94</td>\n",
       "      <td>84.0</td>\n",
       "      <td>95.0</td>\n",
       "      <td>70.0</td>\n",
       "      <td>90.0</td>\n",
       "      <td>86.0</td>\n",
       "      <td>97.0</td>\n",
       "      <td>93.0</td>\n",
       "      <td>...</td>\n",
       "      <td>75.0</td>\n",
       "      <td>96.0</td>\n",
       "      <td>33.0</td>\n",
       "      <td>28.0</td>\n",
       "      <td>26.0</td>\n",
       "      <td>6.0</td>\n",
       "      <td>11.0</td>\n",
       "      <td>15.0</td>\n",
       "      <td>14.0</td>\n",
       "      <td>8.0</td>\n",
       "    </tr>\n",
       "    <tr>\n",
       "      <th>1</th>\n",
       "      <td>33</td>\n",
       "      <td>94</td>\n",
       "      <td>94</td>\n",
       "      <td>84.0</td>\n",
       "      <td>94.0</td>\n",
       "      <td>89.0</td>\n",
       "      <td>81.0</td>\n",
       "      <td>87.0</td>\n",
       "      <td>88.0</td>\n",
       "      <td>81.0</td>\n",
       "      <td>...</td>\n",
       "      <td>85.0</td>\n",
       "      <td>95.0</td>\n",
       "      <td>28.0</td>\n",
       "      <td>31.0</td>\n",
       "      <td>23.0</td>\n",
       "      <td>7.0</td>\n",
       "      <td>11.0</td>\n",
       "      <td>15.0</td>\n",
       "      <td>14.0</td>\n",
       "      <td>11.0</td>\n",
       "    </tr>\n",
       "    <tr>\n",
       "      <th>2</th>\n",
       "      <td>26</td>\n",
       "      <td>92</td>\n",
       "      <td>93</td>\n",
       "      <td>79.0</td>\n",
       "      <td>87.0</td>\n",
       "      <td>62.0</td>\n",
       "      <td>84.0</td>\n",
       "      <td>84.0</td>\n",
       "      <td>96.0</td>\n",
       "      <td>88.0</td>\n",
       "      <td>...</td>\n",
       "      <td>81.0</td>\n",
       "      <td>94.0</td>\n",
       "      <td>27.0</td>\n",
       "      <td>24.0</td>\n",
       "      <td>33.0</td>\n",
       "      <td>9.0</td>\n",
       "      <td>9.0</td>\n",
       "      <td>15.0</td>\n",
       "      <td>15.0</td>\n",
       "      <td>11.0</td>\n",
       "    </tr>\n",
       "    <tr>\n",
       "      <th>3</th>\n",
       "      <td>27</td>\n",
       "      <td>91</td>\n",
       "      <td>93</td>\n",
       "      <td>17.0</td>\n",
       "      <td>13.0</td>\n",
       "      <td>21.0</td>\n",
       "      <td>50.0</td>\n",
       "      <td>13.0</td>\n",
       "      <td>18.0</td>\n",
       "      <td>21.0</td>\n",
       "      <td>...</td>\n",
       "      <td>40.0</td>\n",
       "      <td>68.0</td>\n",
       "      <td>15.0</td>\n",
       "      <td>21.0</td>\n",
       "      <td>13.0</td>\n",
       "      <td>90.0</td>\n",
       "      <td>85.0</td>\n",
       "      <td>87.0</td>\n",
       "      <td>88.0</td>\n",
       "      <td>94.0</td>\n",
       "    </tr>\n",
       "    <tr>\n",
       "      <th>4</th>\n",
       "      <td>27</td>\n",
       "      <td>91</td>\n",
       "      <td>92</td>\n",
       "      <td>93.0</td>\n",
       "      <td>82.0</td>\n",
       "      <td>55.0</td>\n",
       "      <td>92.0</td>\n",
       "      <td>82.0</td>\n",
       "      <td>86.0</td>\n",
       "      <td>85.0</td>\n",
       "      <td>...</td>\n",
       "      <td>79.0</td>\n",
       "      <td>88.0</td>\n",
       "      <td>68.0</td>\n",
       "      <td>58.0</td>\n",
       "      <td>51.0</td>\n",
       "      <td>15.0</td>\n",
       "      <td>13.0</td>\n",
       "      <td>5.0</td>\n",
       "      <td>10.0</td>\n",
       "      <td>13.0</td>\n",
       "    </tr>\n",
       "  </tbody>\n",
       "</table>\n",
       "<p>5 rows × 37 columns</p>\n",
       "</div>"
      ],
      "text/plain": [
       "   Age  Overall  Potential  Crossing  Finishing  HeadingAccuracy  \\\n",
       "0   31       94         94      84.0       95.0             70.0   \n",
       "1   33       94         94      84.0       94.0             89.0   \n",
       "2   26       92         93      79.0       87.0             62.0   \n",
       "3   27       91         93      17.0       13.0             21.0   \n",
       "4   27       91         92      93.0       82.0             55.0   \n",
       "\n",
       "   ShortPassing  Volleys  Dribbling  Curve  ...  Penalties  Composure  \\\n",
       "0          90.0     86.0       97.0   93.0  ...       75.0       96.0   \n",
       "1          81.0     87.0       88.0   81.0  ...       85.0       95.0   \n",
       "2          84.0     84.0       96.0   88.0  ...       81.0       94.0   \n",
       "3          50.0     13.0       18.0   21.0  ...       40.0       68.0   \n",
       "4          92.0     82.0       86.0   85.0  ...       79.0       88.0   \n",
       "\n",
       "   Marking  StandingTackle  SlidingTackle  GKDiving  GKHandling  GKKicking  \\\n",
       "0     33.0            28.0           26.0       6.0        11.0       15.0   \n",
       "1     28.0            31.0           23.0       7.0        11.0       15.0   \n",
       "2     27.0            24.0           33.0       9.0         9.0       15.0   \n",
       "3     15.0            21.0           13.0      90.0        85.0       87.0   \n",
       "4     68.0            58.0           51.0      15.0        13.0        5.0   \n",
       "\n",
       "   GKPositioning  GKReflexes  \n",
       "0           14.0         8.0  \n",
       "1           14.0        11.0  \n",
       "2           15.0        11.0  \n",
       "3           88.0        94.0  \n",
       "4           10.0        13.0  \n",
       "\n",
       "[5 rows x 37 columns]"
      ]
     },
     "execution_count": 6,
     "metadata": {},
     "output_type": "execute_result"
    }
   ],
   "source": [
    "# Sua análise começa aqui.\n",
    "fifa.head()"
   ]
  },
  {
   "cell_type": "code",
   "execution_count": 7,
   "metadata": {},
   "outputs": [
    {
     "name": "stdout",
     "output_type": "stream",
     "text": [
      "<class 'pandas.core.frame.DataFrame'>\n",
      "RangeIndex: 18207 entries, 0 to 18206\n",
      "Data columns (total 37 columns):\n",
      "Age                18207 non-null int64\n",
      "Overall            18207 non-null int64\n",
      "Potential          18207 non-null int64\n",
      "Crossing           18159 non-null float64\n",
      "Finishing          18159 non-null float64\n",
      "HeadingAccuracy    18159 non-null float64\n",
      "ShortPassing       18159 non-null float64\n",
      "Volleys            18159 non-null float64\n",
      "Dribbling          18159 non-null float64\n",
      "Curve              18159 non-null float64\n",
      "FKAccuracy         18159 non-null float64\n",
      "LongPassing        18159 non-null float64\n",
      "BallControl        18159 non-null float64\n",
      "Acceleration       18159 non-null float64\n",
      "SprintSpeed        18159 non-null float64\n",
      "Agility            18159 non-null float64\n",
      "Reactions          18159 non-null float64\n",
      "Balance            18159 non-null float64\n",
      "ShotPower          18159 non-null float64\n",
      "Jumping            18159 non-null float64\n",
      "Stamina            18159 non-null float64\n",
      "Strength           18159 non-null float64\n",
      "LongShots          18159 non-null float64\n",
      "Aggression         18159 non-null float64\n",
      "Interceptions      18159 non-null float64\n",
      "Positioning        18159 non-null float64\n",
      "Vision             18159 non-null float64\n",
      "Penalties          18159 non-null float64\n",
      "Composure          18159 non-null float64\n",
      "Marking            18159 non-null float64\n",
      "StandingTackle     18159 non-null float64\n",
      "SlidingTackle      18159 non-null float64\n",
      "GKDiving           18159 non-null float64\n",
      "GKHandling         18159 non-null float64\n",
      "GKKicking          18159 non-null float64\n",
      "GKPositioning      18159 non-null float64\n",
      "GKReflexes         18159 non-null float64\n",
      "dtypes: float64(34), int64(3)\n",
      "memory usage: 5.1 MB\n"
     ]
    }
   ],
   "source": [
    "fifa.info()"
   ]
  },
  {
   "cell_type": "code",
   "execution_count": 8,
   "metadata": {},
   "outputs": [
    {
     "data": {
      "text/html": [
       "<div>\n",
       "<style scoped>\n",
       "    .dataframe tbody tr th:only-of-type {\n",
       "        vertical-align: middle;\n",
       "    }\n",
       "\n",
       "    .dataframe tbody tr th {\n",
       "        vertical-align: top;\n",
       "    }\n",
       "\n",
       "    .dataframe thead th {\n",
       "        text-align: right;\n",
       "    }\n",
       "</style>\n",
       "<table border=\"1\" class=\"dataframe\">\n",
       "  <thead>\n",
       "    <tr style=\"text-align: right;\">\n",
       "      <th></th>\n",
       "      <th>Age</th>\n",
       "      <th>Overall</th>\n",
       "      <th>Potential</th>\n",
       "      <th>Crossing</th>\n",
       "      <th>Finishing</th>\n",
       "      <th>HeadingAccuracy</th>\n",
       "      <th>ShortPassing</th>\n",
       "      <th>Volleys</th>\n",
       "      <th>Dribbling</th>\n",
       "      <th>Curve</th>\n",
       "      <th>...</th>\n",
       "      <th>Penalties</th>\n",
       "      <th>Composure</th>\n",
       "      <th>Marking</th>\n",
       "      <th>StandingTackle</th>\n",
       "      <th>SlidingTackle</th>\n",
       "      <th>GKDiving</th>\n",
       "      <th>GKHandling</th>\n",
       "      <th>GKKicking</th>\n",
       "      <th>GKPositioning</th>\n",
       "      <th>GKReflexes</th>\n",
       "    </tr>\n",
       "  </thead>\n",
       "  <tbody>\n",
       "    <tr>\n",
       "      <th>count</th>\n",
       "      <td>18207.000000</td>\n",
       "      <td>18207.000000</td>\n",
       "      <td>18207.000000</td>\n",
       "      <td>18159.000000</td>\n",
       "      <td>18159.000000</td>\n",
       "      <td>18159.000000</td>\n",
       "      <td>18159.000000</td>\n",
       "      <td>18159.000000</td>\n",
       "      <td>18159.000000</td>\n",
       "      <td>18159.000000</td>\n",
       "      <td>...</td>\n",
       "      <td>18159.000000</td>\n",
       "      <td>18159.000000</td>\n",
       "      <td>18159.000000</td>\n",
       "      <td>18159.000000</td>\n",
       "      <td>18159.000000</td>\n",
       "      <td>18159.000000</td>\n",
       "      <td>18159.000000</td>\n",
       "      <td>18159.000000</td>\n",
       "      <td>18159.000000</td>\n",
       "      <td>18159.000000</td>\n",
       "    </tr>\n",
       "    <tr>\n",
       "      <th>mean</th>\n",
       "      <td>25.122206</td>\n",
       "      <td>66.238699</td>\n",
       "      <td>71.307299</td>\n",
       "      <td>49.734181</td>\n",
       "      <td>45.550911</td>\n",
       "      <td>52.298144</td>\n",
       "      <td>58.686712</td>\n",
       "      <td>42.909026</td>\n",
       "      <td>55.371001</td>\n",
       "      <td>47.170824</td>\n",
       "      <td>...</td>\n",
       "      <td>48.548598</td>\n",
       "      <td>58.648274</td>\n",
       "      <td>47.281623</td>\n",
       "      <td>47.697836</td>\n",
       "      <td>45.661435</td>\n",
       "      <td>16.616223</td>\n",
       "      <td>16.391596</td>\n",
       "      <td>16.232061</td>\n",
       "      <td>16.388898</td>\n",
       "      <td>16.710887</td>\n",
       "    </tr>\n",
       "    <tr>\n",
       "      <th>std</th>\n",
       "      <td>4.669943</td>\n",
       "      <td>6.908930</td>\n",
       "      <td>6.136496</td>\n",
       "      <td>18.364524</td>\n",
       "      <td>19.525820</td>\n",
       "      <td>17.379909</td>\n",
       "      <td>14.699495</td>\n",
       "      <td>17.694408</td>\n",
       "      <td>18.910371</td>\n",
       "      <td>18.395264</td>\n",
       "      <td>...</td>\n",
       "      <td>15.704053</td>\n",
       "      <td>11.436133</td>\n",
       "      <td>19.904397</td>\n",
       "      <td>21.664004</td>\n",
       "      <td>21.289135</td>\n",
       "      <td>17.695349</td>\n",
       "      <td>16.906900</td>\n",
       "      <td>16.502864</td>\n",
       "      <td>17.034669</td>\n",
       "      <td>17.955119</td>\n",
       "    </tr>\n",
       "    <tr>\n",
       "      <th>min</th>\n",
       "      <td>16.000000</td>\n",
       "      <td>46.000000</td>\n",
       "      <td>48.000000</td>\n",
       "      <td>5.000000</td>\n",
       "      <td>2.000000</td>\n",
       "      <td>4.000000</td>\n",
       "      <td>7.000000</td>\n",
       "      <td>4.000000</td>\n",
       "      <td>4.000000</td>\n",
       "      <td>6.000000</td>\n",
       "      <td>...</td>\n",
       "      <td>5.000000</td>\n",
       "      <td>3.000000</td>\n",
       "      <td>3.000000</td>\n",
       "      <td>2.000000</td>\n",
       "      <td>3.000000</td>\n",
       "      <td>1.000000</td>\n",
       "      <td>1.000000</td>\n",
       "      <td>1.000000</td>\n",
       "      <td>1.000000</td>\n",
       "      <td>1.000000</td>\n",
       "    </tr>\n",
       "    <tr>\n",
       "      <th>25%</th>\n",
       "      <td>21.000000</td>\n",
       "      <td>62.000000</td>\n",
       "      <td>67.000000</td>\n",
       "      <td>38.000000</td>\n",
       "      <td>30.000000</td>\n",
       "      <td>44.000000</td>\n",
       "      <td>54.000000</td>\n",
       "      <td>30.000000</td>\n",
       "      <td>49.000000</td>\n",
       "      <td>34.000000</td>\n",
       "      <td>...</td>\n",
       "      <td>39.000000</td>\n",
       "      <td>51.000000</td>\n",
       "      <td>30.000000</td>\n",
       "      <td>27.000000</td>\n",
       "      <td>24.000000</td>\n",
       "      <td>8.000000</td>\n",
       "      <td>8.000000</td>\n",
       "      <td>8.000000</td>\n",
       "      <td>8.000000</td>\n",
       "      <td>8.000000</td>\n",
       "    </tr>\n",
       "    <tr>\n",
       "      <th>50%</th>\n",
       "      <td>25.000000</td>\n",
       "      <td>66.000000</td>\n",
       "      <td>71.000000</td>\n",
       "      <td>54.000000</td>\n",
       "      <td>49.000000</td>\n",
       "      <td>56.000000</td>\n",
       "      <td>62.000000</td>\n",
       "      <td>44.000000</td>\n",
       "      <td>61.000000</td>\n",
       "      <td>48.000000</td>\n",
       "      <td>...</td>\n",
       "      <td>49.000000</td>\n",
       "      <td>60.000000</td>\n",
       "      <td>53.000000</td>\n",
       "      <td>55.000000</td>\n",
       "      <td>52.000000</td>\n",
       "      <td>11.000000</td>\n",
       "      <td>11.000000</td>\n",
       "      <td>11.000000</td>\n",
       "      <td>11.000000</td>\n",
       "      <td>11.000000</td>\n",
       "    </tr>\n",
       "    <tr>\n",
       "      <th>75%</th>\n",
       "      <td>28.000000</td>\n",
       "      <td>71.000000</td>\n",
       "      <td>75.000000</td>\n",
       "      <td>64.000000</td>\n",
       "      <td>62.000000</td>\n",
       "      <td>64.000000</td>\n",
       "      <td>68.000000</td>\n",
       "      <td>57.000000</td>\n",
       "      <td>68.000000</td>\n",
       "      <td>62.000000</td>\n",
       "      <td>...</td>\n",
       "      <td>60.000000</td>\n",
       "      <td>67.000000</td>\n",
       "      <td>64.000000</td>\n",
       "      <td>66.000000</td>\n",
       "      <td>64.000000</td>\n",
       "      <td>14.000000</td>\n",
       "      <td>14.000000</td>\n",
       "      <td>14.000000</td>\n",
       "      <td>14.000000</td>\n",
       "      <td>14.000000</td>\n",
       "    </tr>\n",
       "    <tr>\n",
       "      <th>max</th>\n",
       "      <td>45.000000</td>\n",
       "      <td>94.000000</td>\n",
       "      <td>95.000000</td>\n",
       "      <td>93.000000</td>\n",
       "      <td>95.000000</td>\n",
       "      <td>94.000000</td>\n",
       "      <td>93.000000</td>\n",
       "      <td>90.000000</td>\n",
       "      <td>97.000000</td>\n",
       "      <td>94.000000</td>\n",
       "      <td>...</td>\n",
       "      <td>92.000000</td>\n",
       "      <td>96.000000</td>\n",
       "      <td>94.000000</td>\n",
       "      <td>93.000000</td>\n",
       "      <td>91.000000</td>\n",
       "      <td>90.000000</td>\n",
       "      <td>92.000000</td>\n",
       "      <td>91.000000</td>\n",
       "      <td>90.000000</td>\n",
       "      <td>94.000000</td>\n",
       "    </tr>\n",
       "  </tbody>\n",
       "</table>\n",
       "<p>8 rows × 37 columns</p>\n",
       "</div>"
      ],
      "text/plain": [
       "                Age       Overall     Potential      Crossing     Finishing  \\\n",
       "count  18207.000000  18207.000000  18207.000000  18159.000000  18159.000000   \n",
       "mean      25.122206     66.238699     71.307299     49.734181     45.550911   \n",
       "std        4.669943      6.908930      6.136496     18.364524     19.525820   \n",
       "min       16.000000     46.000000     48.000000      5.000000      2.000000   \n",
       "25%       21.000000     62.000000     67.000000     38.000000     30.000000   \n",
       "50%       25.000000     66.000000     71.000000     54.000000     49.000000   \n",
       "75%       28.000000     71.000000     75.000000     64.000000     62.000000   \n",
       "max       45.000000     94.000000     95.000000     93.000000     95.000000   \n",
       "\n",
       "       HeadingAccuracy  ShortPassing       Volleys     Dribbling  \\\n",
       "count     18159.000000  18159.000000  18159.000000  18159.000000   \n",
       "mean         52.298144     58.686712     42.909026     55.371001   \n",
       "std          17.379909     14.699495     17.694408     18.910371   \n",
       "min           4.000000      7.000000      4.000000      4.000000   \n",
       "25%          44.000000     54.000000     30.000000     49.000000   \n",
       "50%          56.000000     62.000000     44.000000     61.000000   \n",
       "75%          64.000000     68.000000     57.000000     68.000000   \n",
       "max          94.000000     93.000000     90.000000     97.000000   \n",
       "\n",
       "              Curve  ...     Penalties     Composure       Marking  \\\n",
       "count  18159.000000  ...  18159.000000  18159.000000  18159.000000   \n",
       "mean      47.170824  ...     48.548598     58.648274     47.281623   \n",
       "std       18.395264  ...     15.704053     11.436133     19.904397   \n",
       "min        6.000000  ...      5.000000      3.000000      3.000000   \n",
       "25%       34.000000  ...     39.000000     51.000000     30.000000   \n",
       "50%       48.000000  ...     49.000000     60.000000     53.000000   \n",
       "75%       62.000000  ...     60.000000     67.000000     64.000000   \n",
       "max       94.000000  ...     92.000000     96.000000     94.000000   \n",
       "\n",
       "       StandingTackle  SlidingTackle      GKDiving    GKHandling  \\\n",
       "count    18159.000000   18159.000000  18159.000000  18159.000000   \n",
       "mean        47.697836      45.661435     16.616223     16.391596   \n",
       "std         21.664004      21.289135     17.695349     16.906900   \n",
       "min          2.000000       3.000000      1.000000      1.000000   \n",
       "25%         27.000000      24.000000      8.000000      8.000000   \n",
       "50%         55.000000      52.000000     11.000000     11.000000   \n",
       "75%         66.000000      64.000000     14.000000     14.000000   \n",
       "max         93.000000      91.000000     90.000000     92.000000   \n",
       "\n",
       "          GKKicking  GKPositioning    GKReflexes  \n",
       "count  18159.000000   18159.000000  18159.000000  \n",
       "mean      16.232061      16.388898     16.710887  \n",
       "std       16.502864      17.034669     17.955119  \n",
       "min        1.000000       1.000000      1.000000  \n",
       "25%        8.000000       8.000000      8.000000  \n",
       "50%       11.000000      11.000000     11.000000  \n",
       "75%       14.000000      14.000000     14.000000  \n",
       "max       91.000000      90.000000     94.000000  \n",
       "\n",
       "[8 rows x 37 columns]"
      ]
     },
     "execution_count": 8,
     "metadata": {},
     "output_type": "execute_result"
    }
   ],
   "source": [
    "fifa.describe()"
   ]
  },
  {
   "cell_type": "code",
   "execution_count": 9,
   "metadata": {},
   "outputs": [
    {
     "data": {
      "text/plain": [
       "Age                 0\n",
       "Overall             0\n",
       "Potential           0\n",
       "Crossing           48\n",
       "Finishing          48\n",
       "HeadingAccuracy    48\n",
       "ShortPassing       48\n",
       "Volleys            48\n",
       "Dribbling          48\n",
       "Curve              48\n",
       "FKAccuracy         48\n",
       "LongPassing        48\n",
       "BallControl        48\n",
       "Acceleration       48\n",
       "SprintSpeed        48\n",
       "Agility            48\n",
       "Reactions          48\n",
       "Balance            48\n",
       "ShotPower          48\n",
       "Jumping            48\n",
       "Stamina            48\n",
       "Strength           48\n",
       "LongShots          48\n",
       "Aggression         48\n",
       "Interceptions      48\n",
       "Positioning        48\n",
       "Vision             48\n",
       "Penalties          48\n",
       "Composure          48\n",
       "Marking            48\n",
       "StandingTackle     48\n",
       "SlidingTackle      48\n",
       "GKDiving           48\n",
       "GKHandling         48\n",
       "GKKicking          48\n",
       "GKPositioning      48\n",
       "GKReflexes         48\n",
       "dtype: int64"
      ]
     },
     "execution_count": 9,
     "metadata": {},
     "output_type": "execute_result"
    }
   ],
   "source": [
    "fifa.isnull().sum()"
   ]
  },
  {
   "cell_type": "markdown",
   "metadata": {},
   "source": [
    "## Questão 1\n",
    "\n",
    "Qual fração da variância consegue ser explicada pelo primeiro componente principal de `fifa`? Responda como um único float (entre 0 e 1) arredondado para três casas decimais."
   ]
  },
  {
   "cell_type": "code",
   "execution_count": 10,
   "metadata": {},
   "outputs": [],
   "source": [
    "#Precisa de dropar os NANs antes de utilizar o PCA\n",
    "fifa.dropna(inplace=True)"
   ]
  },
  {
   "cell_type": "code",
   "execution_count": 11,
   "metadata": {},
   "outputs": [
    {
     "name": "stdout",
     "output_type": "stream",
     "text": [
      "0.565\n"
     ]
    }
   ],
   "source": [
    "#Teste\n",
    "\n",
    "#Criando um PCA de 1 componente\n",
    "pca = PCA(n_components=1)\n",
    "\n",
    "#Aplicando o fit and transform do PCA criado aos dados do fifa\n",
    "projected = pca.fit_transform(fifa)\n",
    "\n",
    "#Retornando a variancia dos dados que consegue ser explicada pelo PCA de 1 componente\n",
    "evr = pca.explained_variance_ratio_\n",
    "\n",
    "#type(evr)\n",
    "print(round(evr[0],3))"
   ]
  },
  {
   "cell_type": "code",
   "execution_count": 12,
   "metadata": {},
   "outputs": [],
   "source": [
    "def q1():\n",
    "    pca = PCA(n_components=1)\n",
    "    projected = pca.fit_transform(fifa)\n",
    "    evr = pca.explained_variance_ratio_\n",
    "    \n",
    "    return round(evr[0],3)"
   ]
  },
  {
   "cell_type": "markdown",
   "metadata": {},
   "source": [
    "## Questão 2\n",
    "\n",
    "Quantos componentes principais precisamos para explicar 95% da variância total? Responda como un único escalar inteiro."
   ]
  },
  {
   "cell_type": "code",
   "execution_count": 37,
   "metadata": {},
   "outputs": [
    {
     "data": {
      "text/plain": [
       "15"
      ]
     },
     "execution_count": 37,
     "metadata": {},
     "output_type": "execute_result"
    }
   ],
   "source": [
    "#Indica a porcentagem que se quer da variancia dos dados, utilizando o parametro n_components\n",
    "pca_095 = PCA(n_components=0.95)\n",
    "\n",
    "#Aplica o fit e transform para ver quantos componentes precisa para explicar 95% dos dados\n",
    "X_reduced = pca_095.fit_transform(fifa)\n",
    "\n",
    "X_reduced.shape[1]"
   ]
  },
  {
   "cell_type": "code",
   "execution_count": 38,
   "metadata": {},
   "outputs": [
    {
     "data": {
      "image/png": "[encoded data removed]",
      "text/plain": [
       "<Figure size 864x576 with 1 Axes>"
      ]
     },
     "metadata": {},
     "output_type": "display_data"
    }
   ],
   "source": [
    "evr = pca_095.explained_variance_ratio_\n",
    "\n",
    "g = sns.lineplot(np.arange(len(evr))+1, np.cumsum(evr))\n",
    "g.axes.axhline(0.95, ls=\"--\", color=\"red\")\n",
    "plt.xlabel('Number of components')\n",
    "plt.ylabel('Cumulative explained variance');"
   ]
  },
  {
   "cell_type": "code",
   "execution_count": 39,
   "metadata": {},
   "outputs": [],
   "source": [
    "def q2():\n",
    "    #criando um pca fitando sem o paramentro n_components\n",
    "    pca_095 = PCA(n_components=0.95)\n",
    "    X_reduced = pca_095.fit_transform(fifa)\n",
    "\n",
    "    return X_reduced.shape[1]"
   ]
  },
  {
   "cell_type": "markdown",
   "metadata": {},
   "source": [
    "## Questão 3\n",
    "\n",
    "Qual são as coordenadas (primeiro e segundo componentes principais) do ponto `x` abaixo? O vetor abaixo já está centralizado. Cuidado para __não__ centralizar o vetor novamente (por exemplo, invocando `PCA.transform()` nele). Responda como uma tupla de float arredondados para três casas decimais."
   ]
  },
  {
   "cell_type": "code",
   "execution_count": 40,
   "metadata": {},
   "outputs": [],
   "source": [
    "x = [0.87747123,  -1.24990363,  -1.3191255, -36.7341814,\n",
    "     -35.55091139, -37.29814417, -28.68671182, -30.90902583,\n",
    "     -42.37100061, -32.17082438, -28.86315326, -22.71193348,\n",
    "     -38.36945867, -20.61407566, -22.72696734, -25.50360703,\n",
    "     2.16339005, -27.96657305, -33.46004736,  -5.08943224,\n",
    "     -30.21994603,   3.68803348, -36.10997302, -30.86899058,\n",
    "     -22.69827634, -37.95847789, -22.40090313, -30.54859849,\n",
    "     -26.64827358, -19.28162344, -34.69783578, -34.6614351,\n",
    "     48.38377664,  47.60840355,  45.76793876,  44.61110193,\n",
    "     49.28911284\n",
    "]"
   ]
  },
  {
   "cell_type": "code",
   "execution_count": 41,
   "metadata": {},
   "outputs": [],
   "source": [
    "#Teste\n",
    "\n",
    "#Criando PCA com 2 componentes\n",
    "pca = PCA(n_components=2)\n",
    "\n",
    "#Aplicando o fit e transform nos dados\n",
    "projected = pca.fit_transform(fifa)"
   ]
  },
  {
   "cell_type": "markdown",
   "metadata": {},
   "source": [
    "##### components_array, shape (n_components, n_features)\n",
    "Principal axes in feature space, representing the directions of maximum variance in the data. The components are sorted by explained_variance_."
   ]
  },
  {
   "cell_type": "code",
   "execution_count": 46,
   "metadata": {},
   "outputs": [
    {
     "data": {
      "text/plain": [
       "array([186.55588031,  -6.59243177])"
      ]
     },
     "execution_count": 46,
     "metadata": {},
     "output_type": "execute_result"
    }
   ],
   "source": [
    "#Projetando a variavel x no PCA\n",
    "pca.components_.dot(x)"
   ]
  },
  {
   "cell_type": "code",
   "execution_count": 47,
   "metadata": {},
   "outputs": [],
   "source": [
    "def q3():\n",
    "    pca = PCA(n_components=2)\n",
    "    projected = pca.fit_transform(fifa)\n",
    "    return tuple(pca.components_.dot(x).round(3))"
   ]
  },
  {
   "cell_type": "markdown",
   "metadata": {},
   "source": [
    "## Questão 4\n",
    "\n",
    "Realiza RFE com estimador de regressão linear para selecionar cinco variáveis, eliminando uma a uma. Quais são as variáveis selecionadas? Responda como uma lista de nomes de variáveis."
   ]
  },
  {
   "cell_type": "code",
   "execution_count": 53,
   "metadata": {},
   "outputs": [],
   "source": [
    "#Separando a variavel target e as labels\n",
    "target = fifa['Overall']\n",
    "label = fifa.drop(['Overall'],axis=1)"
   ]
  },
  {
   "cell_type": "code",
   "execution_count": 57,
   "metadata": {},
   "outputs": [],
   "source": [
    "#https://scikit-learn.org/stable/modules/generated/sklearn.feature_selection.RFE.html\n",
    "\n",
    "#Criando um modelo de regressao linear\n",
    "lr = LinearRegression()\n",
    "\n",
    "#Criando um RFE para selecionar as n_features melhores para o modelo\n",
    "selector = RFE(lr, n_features_to_select=5, step=1)\n",
    "\n",
    "#fittando o modelo com os dados de X,y\n",
    "selector = selector.fit(label, target)"
   ]
  },
  {
   "cell_type": "code",
   "execution_count": 61,
   "metadata": {},
   "outputs": [
    {
     "data": {
      "text/plain": [
       "array([ True,  True, False, False, False, False, False, False, False,\n",
       "       False, False,  True, False, False, False,  True, False, False,\n",
       "       False, False, False, False, False, False, False, False, False,\n",
       "       False, False, False, False, False, False, False, False,  True])"
      ]
     },
     "execution_count": 61,
     "metadata": {},
     "output_type": "execute_result"
    }
   ],
   "source": [
    "#Retorna True para as colunas selecionadas\n",
    "selector.support_"
   ]
  },
  {
   "cell_type": "code",
   "execution_count": 62,
   "metadata": {},
   "outputs": [
    {
     "data": {
      "text/plain": [
       "array([ 1,  1, 17, 19,  7,  5, 32, 23, 24, 26, 27,  1, 12,  6, 28,  1, 13,\n",
       "       21, 30,  9,  2, 25, 29, 31, 11, 18, 22,  3, 20, 15, 16,  4,  8, 10,\n",
       "       14,  1])"
      ]
     },
     "execution_count": 62,
     "metadata": {},
     "output_type": "execute_result"
    }
   ],
   "source": [
    "#Faz com raking das colunas\n",
    "selector.ranking_"
   ]
  },
  {
   "cell_type": "code",
   "execution_count": 71,
   "metadata": {},
   "outputs": [
    {
     "data": {
      "text/plain": [
       "Index(['Age', 'Potential', 'BallControl', 'Reactions', 'GKReflexes'], dtype='object')"
      ]
     },
     "execution_count": 71,
     "metadata": {},
     "output_type": "execute_result"
    }
   ],
   "source": [
    "label.columns[selector.support_]"
   ]
  },
  {
   "cell_type": "code",
   "execution_count": 72,
   "metadata": {},
   "outputs": [],
   "source": [
    "def q4():\n",
    "    target = fifa['Overall']\n",
    "    label = fifa.drop(['Overall'],axis=1)\n",
    "    \n",
    "    lr = LinearRegression()\n",
    "    selector = RFE(lr, n_features_to_select=5, step=1)\n",
    "    selector = selector.fit(label, target)\n",
    "    \n",
    "    return label.columns[selector.support_]"
   ]
  },
  {
   "cell_type": "code",
   "execution_count": null,
   "metadata": {},
   "outputs": [],
   "source": []
  }
 ],
 "metadata": {
  "kernelspec": {
   "display_name": "Python 3",
   "language": "python",
   "name": "python3"
  },
  "language_info": {
   "codemirror_mode": {
    "name": "ipython",
    "version": 3
   },
   "file_extension": ".py",
   "mimetype": "text/x-python",
   "name": "python",
   "nbconvert_exporter": "python",
   "pygments_lexer": "ipython3",
   "version": "3.7.3"
  }
 },
 "nbformat": 4,
 "nbformat_minor": 2
}
